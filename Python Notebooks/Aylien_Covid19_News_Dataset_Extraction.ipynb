{
 "cells": [
  {
   "cell_type": "markdown",
   "metadata": {},
   "source": [
    "COS 802 Final Project <br> Student Number: u11028182 <br> Name:  Erika Scholtz"
   ]
  },
  {
   "cell_type": "markdown",
   "metadata": {},
   "source": [
    "#### Import required libraries"
   ]
  },
  {
   "cell_type": "code",
   "execution_count": 1,
   "metadata": {},
   "outputs": [],
   "source": [
    "import pandas as pd\n",
    "import numpy as np\n",
    "import jsonlines\n",
    "from tqdm import tqdm"
   ]
  },
  {
   "cell_type": "markdown",
   "metadata": {},
   "source": [
    "#### Read json lines file"
   ]
  },
  {
   "cell_type": "code",
   "execution_count": 2,
   "metadata": {},
   "outputs": [],
   "source": [
    "file_path = \"C:/Users/erika.scholtz/Documents/COS802/aylien_covid_news_data.jsonl\" # --> replace with jsonl file location\n",
    "data = jsonlines.open(file_path)\n",
    "data.read()"
   ]
  },
  {
   "cell_type": "code",
   "execution_count": 5,
   "metadata": {},
   "outputs": [],
   "source": [
    "json_lines = []\n",
    "counter = 0"
   ]
  },
  {
   "cell_type": "markdown",
   "metadata": {},
   "source": [
    "#### Extract required fields"
   ]
  },
  {
   "cell_type": "code",
   "execution_count": 6,
   "metadata": {},
   "outputs": [],
   "source": [
    "with jsonlines.open(file_path) as f:\n",
    "    for line in f.iter():\n",
    "        counter+=1\n",
    "        id = line['id']\n",
    "        datetime = line['published_at']\n",
    "        title = line['title']\n",
    "        body = line['body']\n",
    "        \n",
    "        if line['sentiment'] is None:\n",
    "            title_sentiment = 'None'\n",
    "            title_sentiment_score = 'None'\n",
    "            body_sentiment = 'None'\n",
    "            body_sentiment_score = 'None'\n",
    "        else:\n",
    "            if line['sentiment']['title'] is None:\n",
    "                title_sentiment = 'None'\n",
    "                title_sentiment_score = 'None'\n",
    "            else:                  \n",
    "                title_sentiment = line['sentiment']['title']['polarity']\n",
    "                title_sentiment_score = line['sentiment']['title']['score']\n",
    "            \n",
    "            if line['sentiment']['body'] is None:\n",
    "                body_sentiment = 'None'\n",
    "                body_sentiment_score = 'None'\n",
    "            else:                  \n",
    "                body_sentiment = line['sentiment']['body']['polarity']\n",
    "                body_sentiment_score = line['sentiment']['body']['score']\n",
    "        \n",
    "        locations = line['source']['locations']\n",
    "        if len(locations) > 0:\n",
    "            location = locations[0]['country']\n",
    "        else:\n",
    "            location = 'None'\n",
    "        \n",
    "        #highest_ranking_country = get_highest_rank(line['source']['rankings']['alexa'])\n",
    "                  \n",
    "        json_lines.append([id, datetime, title, body, body_sentiment, body_sentiment_score, title_sentiment, title_sentiment_score, location])"
   ]
  },
  {
   "cell_type": "code",
   "execution_count": 7,
   "metadata": {},
   "outputs": [
    {
     "name": "stdout",
     "output_type": "stream",
     "text": [
      "1673353\n",
      "1673353\n"
     ]
    }
   ],
   "source": [
    "print(len(json_lines))\n",
    "print(counter)"
   ]
  },
  {
   "cell_type": "code",
   "execution_count": 8,
   "metadata": {},
   "outputs": [
    {
     "data": {
      "text/plain": [
       "[74199021,\n",
       " '2020-04-05 23:59:36+00:00',\n",
       " 'NSW coronavirus death toll hits 18 as cases rise to 2637',\n",
       " 'NSW has now recorded 18 COVID-19 deaths as the state\\'s total number of cases rises to 2637.\\n\\nNSW Health said on Monday the state had recorded 57 new cases - a drop on the previous day which was partly explained by fewer tests being done over the weekend.\\n\\nThe death toll rose to 18 after the deaths of an 86-year-old man and an 85-year-old man on Sunday.\\n\\nIt comes after NSW Police Commissioner Mick Fuller on Sunday announced an investigation into the circumstances surrounding the docking and disembarkation of passengers from the ill-fated Ruby Princess cruise ship.\\n\\nThe investigation - led by the NSW police homicide squad - aims to identify how passengers were allowed to disembark from the ship in Sydney, which is linked to 622 COVID-19 cases and at least 11 deaths across the country.\\n\\n\"The only way I can get to the bottom of whether our national biosecurity laws and our state laws were broken is through a criminal investigation,\" Mr Fuller said.\\n\\nMr Fuller told reporters transparency regarding patient health on board the cruise ship was a key question for the investigation.\\n\\nThe ship will dock in Port Kembla, near Wollongong on Monday.\\n\\nIt\\'s expected to spend up to 10 days docked for medical assessments, treatment or emergency extractions of the crew, NSW Police say.\\n\\nThe investigation will cover the actions of the port authority, ambulance, police, the NSW Health department and Carnival Australia.\\n\\nThe NSW government on Sunday urged young people to take the COVID-19 pandemic seriously, revealing more than a quarter of the state\\'s current coronavirus cases are in people aged under 29.',\n",
       " 'negative',\n",
       " 0.58262,\n",
       " 'neutral',\n",
       " 0.575629,\n",
       " 'AU']"
      ]
     },
     "execution_count": 8,
     "metadata": {},
     "output_type": "execute_result"
    }
   ],
   "source": [
    "json_lines[1]"
   ]
  },
  {
   "cell_type": "markdown",
   "metadata": {},
   "source": [
    "#### Create dataframe"
   ]
  },
  {
   "cell_type": "code",
   "execution_count": 9,
   "metadata": {},
   "outputs": [],
   "source": [
    "df = pd.DataFrame(json_lines, columns = ['id', 'datetime', 'title', 'body', 'body_sentiment', \n",
    "                                         'body_sentiment_score', 'title_sentiment', 'title_sentiment_score', \n",
    "                                         'location'])"
   ]
  },
  {
   "cell_type": "markdown",
   "metadata": {},
   "source": [
    "#### Write dataframe to csv file for use"
   ]
  },
  {
   "cell_type": "code",
   "execution_count": 10,
   "metadata": {},
   "outputs": [],
   "source": [
    "df.to_csv('AylienCovid19.csv', index=False)"
   ]
  }
 ],
 "metadata": {
  "kernelspec": {
   "display_name": "Python 3",
   "language": "python",
   "name": "python3"
  },
  "language_info": {
   "codemirror_mode": {
    "name": "ipython",
    "version": 3
   },
   "file_extension": ".py",
   "mimetype": "text/x-python",
   "name": "python",
   "nbconvert_exporter": "python",
   "pygments_lexer": "ipython3",
   "version": "3.7.3"
  }
 },
 "nbformat": 4,
 "nbformat_minor": 2
}
